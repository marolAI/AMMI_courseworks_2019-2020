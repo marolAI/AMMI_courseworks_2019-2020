{
 "cells": [
  {
   "cell_type": "markdown",
   "metadata": {},
   "source": [
    "# Practical Session 3\n",
    "## Kernel Methods for Machine Learning"
   ]
  },
  {
   "cell_type": "markdown",
   "metadata": {},
   "source": [
    "Written by Yunlong Jiao, Romain Menegaux 20 May 2020"
   ]
  },
  {
   "cell_type": "code",
   "execution_count": null,
   "metadata": {
    "collapsed": true
   },
   "outputs": [],
   "source": [
    "# setup\n",
    "import numpy as np\n",
    "from matplotlib import pyplot as plt\n",
    "%matplotlib inline"
   ]
  },
  {
   "cell_type": "code",
   "execution_count": null,
   "metadata": {},
   "outputs": [],
   "source": [
    "import sys\n",
    "print(sys.version)"
   ]
  },
  {
   "cell_type": "code",
   "execution_count": null,
   "metadata": {},
   "outputs": [],
   "source": [
    "import sklearn\n",
    "sklearn.__version__"
   ]
  },
  {
   "cell_type": "code",
   "execution_count": null,
   "metadata": {
    "scrolled": true
   },
   "outputs": [],
   "source": [
    "import sys\n",
    "try:\n",
    "    !conda install --yes --prefix {sys.prefix} cvxopt\n",
    "    solver = 'cvxopt'\n",
    "except:\n",
    "    try:\n",
    "        !conda install --yes --prefix {sys.prefix} -c omnia quadprog\n",
    "        # !pip install quadprog\n",
    "        solver = 'quadprog'\n",
    "    except:\n",
    "        solver = None\n",
    "        \n",
    "if solver == 'quadprog':\n",
    "    import quadprog\n",
    "    print('Using quadprog')\n",
    "elif solver == 'cvxopt':\n",
    "    import cvxopt\n",
    "    print('Using cvxopt')\n",
    "else:\n",
    "    print('No QP solver installed')"
   ]
  },
  {
   "cell_type": "markdown",
   "metadata": {},
   "source": [
    "## Part 1\n",
    "- **Generate 20 binary classification samples** (10 from each class $y = 1$ and $y = −1$).\n",
    "$$$$\n",
    "Use $\\mathbf{x} \\in \\mathbb{R}^2$, for visualization purpose, where each element $x \\sim \\mathcal{N}(\\mu_y,\\sigma^2), \\mu_1 = 0, \\mu_{-1}=1$.\n",
    "$$$$\n",
    "- **Generate 1000 separate testing samples from the same distribution**\n",
    "- **Visualize training data.**\n",
    "$$$$"
   ]
  },
  {
   "cell_type": "code",
   "execution_count": 5,
   "metadata": {
    "collapsed": true
   },
   "outputs": [],
   "source": [
    "# Simulate data\n",
    "np.random.seed(54321)\n",
    "p = 2\n",
    "\n",
    "def generate_Xy(n_samples, p=2, sigma=.2):\n",
    "\n",
    "    return X, y\n",
    "\n",
    "# Training data\n",
    "X_train, y_train = generate_Xy(20)\n",
    "\n",
    "# Testing data\n",
    "X_test, y_test = generate_Xy(1000)"
   ]
  },
  {
   "cell_type": "code",
   "execution_count": 6,
   "metadata": {
    "collapsed": true
   },
   "outputs": [],
   "source": [
    "# Prediction error\n",
    "def error(y_pred, y_true):\n",
    "    e = (y_pred != y_true).mean()\n",
    "    return e"
   ]
  },
  {
   "cell_type": "code",
   "execution_count": 7,
   "metadata": {},
   "outputs": [
    {
     "data": {
      "image/png": "[encoded data removed]",
      "text/plain": [
       "<matplotlib.figure.Figure at 0x10a9ca4d0>"
      ]
     },
     "metadata": {},
     "output_type": "display_data"
    }
   ],
   "source": [
    "# Visualize training data\n",
    "\n",
    "def plot_data(X, y):\n",
    "    plt.figure(figsize=(8,7))\n",
    "\n",
    "    plt.xlabel('$x_1$')\n",
    "    plt.ylabel('$x_2$')\n",
    "    plt.show()\n",
    "    \n",
    "plot_data(X_train, y_train)"
   ]
  },
  {
   "cell_type": "code",
   "execution_count": null,
   "metadata": {},
   "outputs": [],
   "source": [
    "plot_data(X_test, y_test)"
   ]
  },
  {
   "cell_type": "markdown",
   "metadata": {},
   "source": [
    "## Question 2\n",
    "**Train a linear SVM** with parameter $C = 10$ on the training set, using the function `sklearn.svm.LinearSVC`. Inspect the resulting object"
   ]
  },
  {
   "cell_type": "code",
   "execution_count": 9,
   "metadata": {},
   "outputs": [],
   "source": [
    "# Parameters\n",
    "C = 10\n",
    "\n",
    "# Training\n",
    "clf = 'implement your classifier'"
   ]
  },
  {
   "cell_type": "code",
   "execution_count": null,
   "metadata": {
    "scrolled": true
   },
   "outputs": [],
   "source": [
    "# Training error\n",
    "y_fit = clf.predict(X_train)\n",
    "err_train = error(y_fit, y_train)\n",
    "print('Training error = {:.1%}'.format(err_train))\n",
    "\n",
    "# Testing error\n",
    "y_pred = clf.predict(X_test)\n",
    "err_test = error(y_pred, y_test)\n",
    "print('Testing error = {:.1%}'.format(err_test))"
   ]
  },
  {
   "cell_type": "markdown",
   "metadata": {},
   "source": [
    "***\n",
    "### Plot the points and the decision boundaries of a linear SVM.\n",
    "Recall: \n",
    "the boundary (separating hyperplane) is the set of points for which $f(x) = 0$."
   ]
  },
  {
   "cell_type": "code",
   "execution_count": null,
   "metadata": {},
   "outputs": [],
   "source": [
    "def plot_points_with_margin(X, y, w, b):# Visualize training data and separating hyperplane\n",
    "    plt.figure(figsize=(8,7))\n",
    "\n",
    "    # Training data\n",
    "    plt.scatter(X[:,0], X[:,1], c=y)\n",
    "    plt.xlabel('$x_1$')\n",
    "    plt.ylabel('$x_2$')\n",
    "\n",
    "    # Separating hyperplane and decision boundaries\n",
    "    x1 = np.linspace(X[:,0].min(), X[:,0].max(), 100)\n",
    "    x2 = 0\n",
    "    x2_up = 0\n",
    "    x2_low = 0\n",
    "\n",
    "    plt.plot(x1, x2, 'b')\n",
    "    plt.plot(x1, x2_up, 'b--')\n",
    "    plt.plot(x1, x2_low, 'b--')\n",
    "\n",
    "    # Plot\n",
    "    plt.show()\n",
    "    \n",
    "w = clf.coef_[0]\n",
    "b = clf.intercept_[0]\n",
    "plot_points_with_margin(X_train, y_train, w, b)"
   ]
  },
  {
   "cell_type": "markdown",
   "metadata": {},
   "source": [
    "***\n",
    "## Part 2\n",
    "We will use a quadratic program (QP) solver `cvxopt` to find our own solution to SVM\n",
    "\n",
    "```\n",
    "cvxopt.solvers.qp(P, q[, G, h[, A, b]])\n",
    "```\n",
    "solves the quadratic program\n",
    "\n",
    "$$\n",
    "\\begin{aligned}\n",
    "\\min_x & \\, \\frac{1}{2}x^\\top P x + q^\\top x \\\\\n",
    "\\mathrm{s.t. } \\, & Gx \\leq h \\\\\n",
    "& Ax = b\n",
    "\\end{aligned}\n",
    "$$\n",
    "\n",
    "- $P, q$ define the objective\n",
    "- $G, h$ are all the inequality constraints\n",
    "- $A, b$ are all the equality constraints\n",
    "\n",
    "**Find $P$, $q$, $G$, $h$, $A$ and $b$ for the hard margin SVM**\n",
    "***"
   ]
  },
  {
   "cell_type": "markdown",
   "metadata": {},
   "source": [
    "First step: what is $x$ in our case, with the slides notations?\n",
    "\n",
    "**Hard margin:** (slide 83)\n",
    "- Primal $x = $\n",
    "- Dual $x = $\n",
    "\n",
    "**Soft margin:** (slides 89, 91)\n",
    "- Primal $x = $\n",
    "- Dual $x = $"
   ]
  },
  {
   "cell_type": "markdown",
   "metadata": {},
   "source": [
    "***\n",
    "We set $X_y = \\mathrm{diag}(y)X = (y_1x_1, ..., y_nx_n)^\\top \\in \\mathbb{R}^{n\\times p}$\n",
    "\n",
    "$X_y$ is simply $X$ with its rows $i$ multiplied by $y_i$"
   ]
  },
  {
   "cell_type": "markdown",
   "metadata": {},
   "source": [
    "### Hard margin SVM\n",
    "\n",
    "**Primal**\n",
    "$$\n",
    "\\begin{aligned}\n",
    "\\min_{w, b} & \\, \\frac{1}{2}w^\\top w \\\\\n",
    "\\mathrm{s.t. } \\, & y_i x_i^\\top w + y_i b \\geq 1\\\\\n",
    "\\end{aligned}\n",
    "$$\n",
    "\n",
    "<font color='red'> Watch out for the signs in the constraints! </font>\n",
    "\n",
    "**Dual:**\n",
    "$$\n",
    "\\begin{aligned}\n",
    "\\max_\\alpha & \\, \\mathrm{1}^\\top\\alpha - \\frac{1}{2}\\alpha^\\top X_y X_y^\\top \\alpha \\\\\n",
    "\\mathrm{s.t. } \\, & \\alpha \\geq 0 \\\\\n",
    "& y^\\top\\alpha = 0\n",
    "\\\\\n",
    "\\end{aligned}\n",
    "$$"
   ]
  },
  {
   "cell_type": "markdown",
   "metadata": {},
   "source": [
    "### Let's implement it!"
   ]
  },
  {
   "cell_type": "code",
   "execution_count": null,
   "metadata": {
    "collapsed": true
   },
   "outputs": [],
   "source": [
    "# You don't need to look at this, this is just to adapt our matrices\n",
    "# to the solver being used\n",
    "\n",
    "def quadprog_solve_qp(P, q, G=None, h=None, A=None, b=None):\n",
    "    qp_G = .5 * (P + P.T)   # make sure P is symmetric\n",
    "    qp_a = -q\n",
    "    if A is not None:\n",
    "        qp_C = -np.vstack([A, G]).T\n",
    "        qp_b = -np.hstack([b, h])\n",
    "        meq = A.shape[0]\n",
    "    else:  # no equality constraint\n",
    "        qp_C = - G.T\n",
    "        qp_b = - h\n",
    "        meq = 0\n",
    "    return quadprog.solve_qp(qp_G, qp_a, qp_C, qp_b, meq)[0]\n",
    "\n",
    "def cvxopt_qp(P, q, G, h, A, b):\n",
    "    P = .5 * (P + P.T)\n",
    "    cvx_matrices = [\n",
    "        cvxopt.matrix(M) if M is not None else None for M in [P, q, G, h, A, b] \n",
    "    ]\n",
    "    solution = cvxopt.solvers.qp(*cvx_matrices)\n",
    "    return np.array(solution['x']).flatten()\n",
    "\n",
    "solve_qp = {'quadprog': quadprog_solve_qp, 'cvxopt': cvxopt_qp}[solver]"
   ]
  },
  {
   "cell_type": "code",
   "execution_count": null,
   "metadata": {},
   "outputs": [],
   "source": [
    "def svm_primal_hard_to_qp(X, y):\n",
    "    n, p = X.shape\n",
    "    assert (len(y) == n)\n",
    "    \n",
    "    Xy = np.diag(y).dot(X)\n",
    "    # Primal formulation, hard margin\n",
    "    diag_P = np.zeros(p+1) # correct this!\n",
    "    # As a regularization, we add epsilon * identity to P\n",
    "    eps = 1e-12\n",
    "    diag_P += eps\n",
    "    P = np.diag(diag_P)\n",
    "\n",
    "    return P, q, G, h, A, b\n",
    "\n",
    "coefs = solve_qp(*svm_primal_hard_to_qp(X_train, y_train))\n",
    "n, p = X_train.shape\n",
    "w, b = 0, 0 #FIXME"
   ]
  },
  {
   "cell_type": "code",
   "execution_count": null,
   "metadata": {},
   "outputs": [],
   "source": [
    "plot_points_with_margin(X_train, y_train, w, b)"
   ]
  },
  {
   "cell_type": "code",
   "execution_count": null,
   "metadata": {},
   "outputs": [],
   "source": [
    "def svm_dual_hard_to_qp(X, y):\n",
    "    n, p = X.shape\n",
    "    assert (len(y) == n)\n",
    "    \n",
    "    Xy = np.diag(y).dot(X)\n",
    "    # Dual formulation, hard margin\n",
    "    \n",
    "    # As a regularization, we add epsilon * identity to P\n",
    "    eps = 1e-12\n",
    "    P += eps * np.eye(n)\n",
    "\n",
    "    return P, q, G, h, A, b\n",
    "\n",
    "alphas = solve_qp(*svm_dual_soft_to_qp(X_train, y_train))"
   ]
  },
  {
   "cell_type": "markdown",
   "metadata": {},
   "source": [
    "**Soft margin SVM, primal:**\n",
    "$$\n",
    "\\begin{aligned}\n",
    "\\min_{w, b, \\xi} & \\, \\frac{1}{2}w^\\top w + C \\mathbf{1}^\\top \\xi \\\\\n",
    "\\mathrm{s.t. } \\, & \\xi \\geq 0 \\\\\n",
    "& y_i x_i^\\top w + y_i b + \\xi_i\\geq 1\n",
    "\\\\\n",
    "\\end{aligned}\n",
    "$$\n",
    "\n",
    "- <font color='green'> $P = \\frac{1}{2}I_p$ with 0 padding to make it $(p+1+n) \\times (p+1+n)$\n",
    "- $q = (0,..., 0, C, ..., C)$ </font> $q$ is $0$ $(p+1)$ times then $C$ $n$ times\n",
    "$$$$\n",
    "- <font color='green'> $G = -\\left[X_y^\\top, y, I_n\\right]^\\top, h = -\\mathbf{1}_n^\\top$</font>\n",
    "- <font color='green'> $A = 0, b = 0$ </font>\n",
    "\n",
    "**Soft margin SVM, dual:**\n",
    "$$\n",
    "\\begin{aligned}\n",
    "\\max_\\alpha & \\, \\mathrm{1}^\\top\\alpha -\\frac{1}{2}\\alpha^\\top X_y^T X_y \\alpha \\\\\n",
    "\\mathrm{s.t. } \\, & \\alpha \\geq 0 \\\\\n",
    "& \\alpha \\leq C \\\\\n",
    "& y^\\top\\alpha = 0\n",
    "\\\\\n",
    "\\end{aligned}\n",
    "$$\n",
    "\n",
    "- <font color='green'> $P = -X_y^T X_y$, $q = -\\mathbf{1}$ </font>\n",
    "- <font color='green'> $G = [-I, I]^\\top, h = (0, ..., 0, C, ..., C)^\\top$</font> $h$ is $0$ $n$ times then $C$ $n$ times\n",
    "$$$$\n",
    "- <font color='green'> $A = y^\\top, b = 0$ </font>"
   ]
  },
  {
   "cell_type": "code",
   "execution_count": null,
   "metadata": {
    "collapsed": true
   },
   "outputs": [],
   "source": [
    "def svm_dual_soft_to_qp(X, y, C=1):\n",
    "    n, p = X.shape\n",
    "    assert (len(y) == n)\n",
    "    \n",
    "    Xy = np.diag(y).dot(X)\n",
    "    # Dual formulation, soft margin\n",
    "    P = 0.5 * Xy.dot(Xy.T)\n",
    "    # As a regularization, we add epsilon * identity to P\n",
    "    eps = 1e-12\n",
    "    P += eps * np.eye(n)\n",
    "    q = - np.ones(n)\n",
    "    G = np.vstack([-np.eye(n), np.eye(n)])\n",
    "    h = np.hstack([np.zeros(n), C * np.ones(n)])\n",
    "    A = y[np.newaxis, :]\n",
    "    b = np.array([0.])\n",
    "    return P, q, G, h, A, b\n",
    "\n",
    "C = 10\n",
    "alphas = solve_qp(*svm_dual_soft_to_qp(X_train, y_train, C=C))\n"
   ]
  },
  {
   "cell_type": "code",
   "execution_count": null,
   "metadata": {},
   "outputs": [],
   "source": [
    "def svm_primal_soft_to_qp(X, y, C=1):\n",
    "    n, p = X.shape\n",
    "    assert (len(y) == n)\n",
    "    \n",
    "    Xy = np.diag(y).dot(X)\n",
    "    # Primal formulation, soft margin\n",
    "    diag_P = np.hstack([0.5 * np.ones(p), np.zeros(n + 1)])\n",
    "    # As a regularization, we add epsilon * identity to P\n",
    "    eps = 1e-12\n",
    "    diag_P += eps\n",
    "    P = np.diag(diag_P)\n",
    "    \n",
    "    q = np.hstack([np.zeros(p + 1), C * np.ones(n)])\n",
    "    # y(wx+b)+ei>=1\n",
    "    G1 = - np.hstack([Xy, y[:, np.newaxis], np.eye(n)])\n",
    "    # ei>=0\n",
    "    G2 = - np.hstack([np.zeros((n, p+1)), np.eye(n)])\n",
    "    G = np.vstack([G1, G2])\n",
    "    h = - np.hstack([np.ones(n), np.zeros(n)])\n",
    "    A = None\n",
    "    b = None\n",
    "    return P, q, G, h, A, b\n",
    "\n",
    "coefs = solve_qp(*svm_primal_soft_to_qp(X_train, y_train, C=C))\n",
    "n, p = X_train.shape\n",
    "w, b, e = coefs[:p], coefs[p], coefs[(p+1):]\n"
   ]
  },
  {
   "cell_type": "code",
   "execution_count": null,
   "metadata": {
    "scrolled": true
   },
   "outputs": [],
   "source": [
    "plot_points_with_margin(X_test, y_test, w, b)"
   ]
  },
  {
   "cell_type": "markdown",
   "metadata": {},
   "source": [
    "## Part 4\n",
    "- Try different values of $C$, and visualize the effect of $C$ on the margin and number of support vectors.\n",
    "$$$$\n",
    "- Train a linear SVM with values of $C$ between $10^{−3}$ and $1$. Plot and analyze the training and testing classification errors as a function of $C$. Question: Why can't we overfit more?\n",
    "$$$$\n",
    "- Choose $C$ by cross-validation."
   ]
  },
  {
   "cell_type": "code",
   "execution_count": null,
   "metadata": {},
   "outputs": [],
   "source": [
    "from sklearn.model_selection import cross_val_score\n",
    "\n",
    "# Cross validation\n",
    "CL = 10 ** np.linspace(-3, 2, 100)\n",
    "cvsL = np.zeros(len(CL))\n",
    "\n",
    "for i,C in enumerate(CL):\n",
    "    clf = sklearn.svm.LinearSVC(penalty='l2',loss='hinge',C=C)\n",
    "    scores = cross_val_score(clf, X_train, y_train, cv=5, scoring='accuracy')\n",
    "    cvsL[i] = scores.mean()"
   ]
  },
  {
   "cell_type": "code",
   "execution_count": null,
   "metadata": {},
   "outputs": [],
   "source": []
  },
  {
   "cell_type": "code",
   "execution_count": null,
   "metadata": {
    "scrolled": false
   },
   "outputs": [],
   "source": [
    "import bqplot.pyplot as bqp\n",
    "from ipywidgets import IntSlider, HTML, HBox\n",
    "\n",
    "slider_C = IntSlider(min=0, max=len(CL)-1, value=len(CL)/2, readout=False)\n",
    "readout = HTML()\n",
    "fig = bqp.figure(min_aspect_ratio=1.1, max_aspect_ratio=1.1,\n",
    "           layout={'min_width': '500px', 'min_height': '500px'})\n",
    "scat = bqp.scatter(X_test[::10, 0], X_test[::10, 1],\n",
    "                   colors=['orange' if y == 1 else 'purple' for y in y_test[::10]])\n",
    "                   #axes_options={'color': None})\n",
    "sep = bqp.plot(x1, np.zeros_like(x1), preserve_domain={'x': True, 'y': True})\n",
    "margin_up = bqp.plot(x1, np.zeros_like(x1), '--', preserve_domain={'x': True, 'y': True})\n",
    "margin_down = bqp.plot(x1, np.zeros_like(x1), '--', preserve_domain={'x': True, 'y': True})\n",
    "\n",
    "def compute_margins(w0, w1, w2, x1):\n",
    "    x2 = (-w0 - w1 * x1) / w2\n",
    "    x2_up = (-w0 - w1 * x1 - 1) / w2\n",
    "    x2_low = (-w0 - w1 * x1 + 1) / w2\n",
    "    \n",
    "    return x2, x2_up, x2_low\n",
    "\n",
    "def update_margins(*args):\n",
    "    i = slider_C.value\n",
    "    sep.y, margin_up.y, margin_down.y = compute_margins(w0[i], w[i, 0], w[i, 1], sep.x)\n",
    "    readout.value = 'C = {:.3f}'.format(CL[i])\n",
    "\n",
    "slider_C.observe(update_margins)\n",
    "update_margins()\n",
    "\n",
    "#bqp.show()\n",
    "VBox([fig, HBox([slider_C, readout])])"
   ]
  },
  {
   "cell_type": "code",
   "execution_count": null,
   "metadata": {
    "collapsed": true
   },
   "outputs": [],
   "source": []
  }
 ],
 "metadata": {
  "kernelspec": {
   "display_name": "Python 2",
   "language": "python",
   "name": "python2"
  },
  "language_info": {
   "codemirror_mode": {
    "name": "ipython",
    "version": 2
   },
   "file_extension": ".py",
   "mimetype": "text/x-python",
   "name": "python",
   "nbconvert_exporter": "python",
   "pygments_lexer": "ipython2",
   "version": "2.7.3"
  }
 },
 "nbformat": 4,
 "nbformat_minor": 2
}
