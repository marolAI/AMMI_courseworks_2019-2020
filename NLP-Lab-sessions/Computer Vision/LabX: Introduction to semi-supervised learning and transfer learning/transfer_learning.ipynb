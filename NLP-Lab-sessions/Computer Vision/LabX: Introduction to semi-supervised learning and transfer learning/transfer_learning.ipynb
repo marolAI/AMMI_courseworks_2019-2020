{
 "cells": [
  {
   "cell_type": "markdown",
   "metadata": {},
   "source": [
    "<h1 style=\"font-family:verdana;font-size:250%;text-align:center;background-color:#f2f2f2;color:#0d0d0d\">COMPUTER VISION - Lab sessions</h1>\n",
    "\n",
    "<h1 style=\"font-family:verdana;font-size:150%;text-align:Center;color:#993333\"> \n",
    "    Lab x: Introduction to Transfer Learning and Semi-Supervised Learning \n",
    " \n",
    "</h1>\n",
    "<h1 style=\"font-family:verdana;font-size:120%;text-align:Center;color:#993333\"> \n",
    "    Application : Image Classification   \n",
    "</h1>"
   ]
  },
  {
   "cell_type": "markdown",
   "metadata": {},
   "source": [
    "***Overview***\n"
   ]
  },
  {
   "cell_type": "code",
   "execution_count": null,
   "metadata": {},
   "outputs": [],
   "source": []
  }
 ],
 "metadata": {
  "kernelspec": {
   "display_name": "Python 3",
   "language": "python",
   "name": "python3"
  },
  "language_info": {
   "codemirror_mode": {
    "name": "ipython",
    "version": 3
   },
   "file_extension": ".py",
   "mimetype": "text/x-python",
   "name": "python",
   "nbconvert_exporter": "python",
   "pygments_lexer": "ipython3",
   "version": "3.7.3"
  }
 },
 "nbformat": 4,
 "nbformat_minor": 2
}
