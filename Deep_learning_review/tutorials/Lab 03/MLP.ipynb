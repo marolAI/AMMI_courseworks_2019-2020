{
 "cells": [
  {
   "cell_type": "markdown",
   "metadata": {
    "colab_type": "text",
    "id": "mipSoOVlavkb"
   },
   "source": [
    "# Categorical data with multilayer perceptron (MLP)\n",
    "\n",
    "## Authors: \n",
    "\n",
    "Arsène Fansi Tchango <arsene.fansi.tchango@mila.quebec>\n",
    "\n",
    "Gaétan Marceau Caron <gaetan.marceau.caron@mila.quebec>\n",
    "\n",
    "source: https://github.com/mila-iqia/ivado-mila-dl-school-2019"
   ]
  },
  {
   "cell_type": "markdown",
   "metadata": {
    "colab_type": "text",
    "id": "sLHwvggEZERd"
   },
   "source": [
    "## Preface"
   ]
  },
  {
   "cell_type": "markdown",
   "metadata": {
    "colab_type": "text",
    "id": "JKNGtQkkohiM"
   },
   "source": [
    "This tutorial introduces the practical aspects of Deep Learning through the realization of a simple end-to-end project. We will use the deep learning library <a href=\"https://pytorch.org/\"> `PyTorch`</a>, which is well-known for its ease of use."
   ]
  },
  {
   "cell_type": "markdown",
   "metadata": {
    "colab_type": "text",
    "id": "NOD70vdvvtin"
   },
   "source": [
    "# Introduction"
   ]
  },
  {
   "cell_type": "markdown",
   "metadata": {
    "colab_type": "text",
    "id": "nq9FwFVnQihX"
   },
   "source": [
    "## Loading packages and using GPUs"
   ]
  },
  {
   "cell_type": "markdown",
   "metadata": {
    "colab_type": "text",
    "id": "reCpBfp1Qcrt"
   },
   "source": [
    "Before we start, we install the necessary packages for the tutorial by using pip. To do this, execute the following cell by selecting it and using `shift+Enter`. This step may take a few minutes."
   ]
  },
  {
   "cell_type": "code",
   "execution_count": null,
   "metadata": {
    "colab": {
     "base_uri": "https://localhost:8080/",
     "height": 225
    },
    "colab_type": "code",
    "id": "c5AlBPjnvzNh",
    "outputId": "48285c9a-dbd0-4585-e493-c089116ae91e"
   },
   "outputs": [],
   "source": [
    "!pip3 install 'torch==1.1.0' 'torchvision==0.3.0' 'Pillow==4.3.0' 'matplotlib==3.0.3'"
   ]
  },
  {
   "cell_type": "markdown",
   "metadata": {
    "colab_type": "text",
    "id": "djF9gjzLwsDB"
   },
   "source": [
    "Now, import all the modules we will use for this tutorial by running the next cell:"
   ]
  },
  {
   "cell_type": "code",
   "execution_count": null,
   "metadata": {
    "colab": {
     "base_uri": "https://localhost:8080/",
     "height": 52
    },
    "colab_type": "code",
    "id": "w9LnNnxBw0wC",
    "outputId": "2423e91f-ab6a-4ad2-db83-948e14bf0f89"
   },
   "outputs": [],
   "source": [
    "import torch\n",
    "import pandas as pd\n",
    "import numpy as np\n",
    "import matplotlib.pyplot as plt\n",
    "%matplotlib inline\n",
    "\n",
    "seed = 1234\n",
    "np.random.seed(seed) # Set the random seed of numpy for the data split.\n",
    "\n",
    "use_gpu = torch.cuda.is_available()\n",
    "device = torch.device(\"cuda:0\" if use_gpu else \"cpu\")\n",
    "\n",
    "\n",
    "print(\"Torch version: \", torch.__version__)\n",
    "print(\"GPU Available: {}\".format(use_gpu))"
   ]
  },
  {
   "cell_type": "markdown",
   "metadata": {
    "colab_type": "text",
    "id": "ZKzgFV9Favkt"
   },
   "source": [
    "## PyTorch in a nutshell"
   ]
  },
  {
   "cell_type": "markdown",
   "metadata": {
    "colab_type": "text",
    "id": "Vrus_-F0avkt"
   },
   "source": [
    "*PyTorch* is a Python library that supports a vibrant ecosystem of tools and libraries for ML in vision, NLP, and more. It provides two high-level features:\n",
    "<ul>\n",
    "<li> operations on <a href=\"https://pytorch.org/tutorials/beginner/blitz/tensor_tutorial.html#sphx-glr-beginner-blitz-tensor-tutorial-py\">tensors</a> (such as NumPy) with GPU support,</li>\n",
    "<li> operations for creating and optimizing computational graphs with an automatic differentiation system called <a href=\"https://pytorch.org/tutorials/beginner/blitz/autograd_tutorial.html#sphx-glr-beginner-blitz-autograd-tutorial-py\">Autograd</a>.</li>\n",
    "</ul>\n",
    "\n",
    "<a href=\"https://pytorch.org/docs/stable/torch.html\">PyTorch docs</a> contain the API documentation and <a href=\"https://pytorch.org/tutorials/\">many tutorials</a>.\n",
    "Also, PyTorch offers several data processing utilities. One of these utilities is the class <a href=\"http://pytorch.org/docs/master/data.html#\"> `torch.utils.data.Dataset`</a> which offers an easy to use interface to handle a data set. For more information, please refer to the following urls: \n",
    "<ul>\n",
    "<li>PyTorch data sets: <a href=\"http://pytorch.org/docs/master/data.html\"> PyTorch - datasets</a>.</li>\n",
    "<li>A tutorial for loading data: <a href=\"http://pytorch.org/tutorials/beginner/data_loading_tutorial.html\"> PyTorch - data loading tutorial</a>.</li>\n",
    "</ul>\n",
    "\n",
    "<a href=\"http://pytorch.org/docs/master/cuda.html#module-torch.cuda\">`torch.cuda`</a> is a package that provides the same functions as CPU tensors but for  CUDA tensors, which are used for GPU computing. <a href=\"http://pytorch.org/docs/master/cuda.html#torch.cuda.is_available\">`torch.cuda.is_available()`</a> returns a boolean indicating if CUDA is currently available. Finally, we recommend using a `device` variable that identifies the device on which you want to perform computations. We can assign a tensor to a device with the method `.to(device)`. By default, the tensors are CPU tensors."
   ]
  },
  {
   "cell_type": "markdown",
   "metadata": {
    "colab_type": "text",
    "id": "Qm122vNmq92L"
   },
   "source": [
    "## Ingredients for a proof of concept (POC)"
   ]
  },
  {
   "cell_type": "markdown",
   "metadata": {
    "colab_type": "text",
    "id": "nqvhR0ebavmE"
   },
   "source": [
    "To realize a ML POC, you need:\n",
    "<ul>\n",
    "<li>a task description as well as data to support it,</li>\n",
    "<li>an evaluation metric to assess the performance of a model,</li>\n",
    "<li>a model description,</li>\n",
    "<li>a cost function to be optimized,</li>\n",
    "<li>an optimizer that adjusts the parameters of the model.</li>\n",
    "</ul>"
   ]
  },
  {
   "cell_type": "markdown",
   "metadata": {
    "colab_type": "text",
    "id": "Y8_pfpu2f6AO"
   },
   "source": [
    "# How to prepare the dataset?"
   ]
  },
  {
   "cell_type": "markdown",
   "metadata": {
    "colab_type": "text",
    "id": "B5piZxYUhSzq"
   },
   "source": [
    "Our task is to predict whether or not a passenger survived the sinking of the Titanic based on passenger data only."
   ]
  },
  {
   "cell_type": "markdown",
   "metadata": {
    "colab_type": "text",
    "id": "y4GuYNDFavlU"
   },
   "source": [
    "## Titanic dataset"
   ]
  },
  {
   "cell_type": "markdown",
   "metadata": {
    "colab_type": "text",
    "id": "NiOJx2ytavlU"
   },
   "source": [
    "We can download the Titanic dataset at the following address: https://github.com/afansi/winterschool18/blob/master/titanic3.csv?raw=true.<br/>\n",
    "This dataset provides information on the fate of 1309 passengers of the first and only journey of the liner \"RMS Titanic\", summarized by economic status (class), gender, age, family information, and survival. The Kaggle platform also uses this dataset as an introduction to classical machine learning. Here, we use it to introduce more advanced concepts related to PyTorch and Deep Learning.\n",
    "\n",
    "We use the library <a href=\"https://pandas.pydata.org/\">Pandas</a> to load the dataset into memory."
   ]
  },
  {
   "cell_type": "code",
   "execution_count": null,
   "metadata": {
    "colab": {
     "base_uri": "https://localhost:8080/",
     "height": 271
    },
    "colab_type": "code",
    "id": "bX_RSiffavlW",
    "outputId": "65feb3e0-c4e7-4812-e918-3767946f865d"
   },
   "outputs": [],
   "source": [
    "titanic_df = pd.read_csv(\n",
    "    'https://github.com/afansi/winterschool18/blob/master/titanic3.csv?raw=true', \n",
    "    sep='\\t', \n",
    "    index_col=None, \n",
    "    na_values=['NA']\n",
    ")\n",
    "\n",
    "# a snapshot of the first 5 data points\n",
    "titanic_df.head()\n",
    "\n"
   ]
  },
  {
   "cell_type": "markdown",
   "metadata": {
    "colab_type": "text",
    "id": "yj88WmCmavlf"
   },
   "source": [
    "**The meaning of the different columns (features) is as follows**:\n",
    "\n",
    "<ol>\n",
    "\n",
    "  <li> <b>pclass</b>: Passenger class (1 = first; 2 = second; 3 = third) </li>\n",
    "  <li> <b>survived</b>: Survived? (0 = no; 1 = yes) </li>\n",
    "  <li> <b>name</b>: Name </li>\n",
    "  <li> <b>sex</b>: Sex </li>\n",
    "  <li> <b>age</b>: Age </li>\n",
    "  <li> <b>sibsp</b>: Number of brothers, sisters, or spouses onboard </li>\n",
    "  <li> <b>parch</b>: Number of parents or children onboard </li>\n",
    "  <li> <b>ticket</b>: Ticket number </li>\n",
    "  <li> <b>fare</b>: Passenger fare </li>\n",
    "  <li> <b>cabin</b>: Cabin number </li>\n",
    "  <li> <b>embarked</b>: Port of embarkation (C = Cherbourg; Q = Queenstown; S = Southampton) </li>\n",
    "  <li> <b>boat</b>: Lifeboat (if the passenger survived) </li>\n",
    "  <li> <b>body</b>: Body number (if the passenger did not survive and his body was found) </li>\n",
    "  <li> <b>home.dest</b>: the passenger's destination </li>\n",
    " </ol>\n"
   ]
  },
  {
   "cell_type": "markdown",
   "metadata": {
    "colab_type": "text",
    "id": "u2ed5fozqjce"
   },
   "source": [
    "## Data pre-processing"
   ]
  },
  {
   "cell_type": "markdown",
   "metadata": {
    "colab_type": "text",
    "id": "__vcZhPnavlg"
   },
   "source": [
    "### Feature selection\n",
    "Some features are not relevant to the task, for example:\n",
    "<ol>\n",
    "  <li> <b>name</b>: Name </li>\n",
    "  <li> <b>ticket</b>: Ticket number </li>\n",
    "  <li> <b>cabin</b>: Cabin number </li>\n",
    "  <li> <b>home.dest</b>: Passenger's destination </li>\n",
    " </ol>\n",
    " \n",
    "Other features give away the label to be predicted and including them would be cheating:\n",
    "<ol>\n",
    "  <li> <b>boat</b>: Lifeboat (if the passenger survived) </li>\n",
    "  <li> <b>body</b>: Body number (if the passenger did not survive and his body was found) </li>\n",
    " </ol>"
   ]
  },
  {
   "cell_type": "code",
   "execution_count": null,
   "metadata": {
    "colab": {
     "base_uri": "https://localhost:8080/",
     "height": 202
    },
    "colab_type": "code",
    "id": "JJ0--SDpavlg",
    "outputId": "bb15e866-2779-4e6f-9deb-4eedf70248ad"
   },
   "outputs": [],
   "source": [
    "titanic_preprocess_df = pd.read_csv(\n",
    "    'https://github.com/afansi/winterschool18/blob/master/titanic_prepocess.csv?raw=true', \n",
    "    sep=',', \n",
    "    index_col=None\n",
    ")\n",
    "\n",
    "titanic_preprocess_df.head()"
   ]
  },
  {
   "cell_type": "markdown",
   "metadata": {
    "colab_type": "text",
    "id": "4MckYm0M_xhR"
   },
   "source": [
    " ### Feature encoding\n",
    " \n",
    "Some features are **categorical variables**, which means that they can take a finite number of values.\n",
    " <ol>\n",
    "  <li> <b>pclass</b>: Passenger Class </li>\n",
    "  <li> <b>sex</b>: Sex </li>\n",
    "  <li> <b>embarked</b>: Port of embarkation </li>\n",
    " </ol>\n",
    "\n",
    "To process categorical variables, we need to encode them in a way that does not imply an arbitrary order such as using natural numbers (e.g., 1, 2, 3). <a href=\"http://scikit-learn.org/stable/modules/generated/sklearn.preprocessing.OneHotEncoder.html\">One-hot encoding</a> is a way to achieve it. We can download the pre-processed dataset at the following address: https://github.com/afansi/winterschool18/blob/master/titanic_prepocess.csv?raw=true.\n",
    "<br>The meaning of the encoded variables is as follows:\n",
    "\n",
    "<ol>\n",
    "  <li> <b>survived</b>: Survived? (0 = no; 1 = yes) </li>\n",
    "  <li> <b>pclass_1</b>: (1 if passenger in first class; 0 if not) </li>\n",
    "  <li> <b>pclass_2</b>: (1 if passenger in second class; 0 if not) </li>\n",
    "  <li> <b>pclass_3</b>: (1 if passenger in third class; 0 if not) </li>\n",
    "  <li> <b>sex_female</b>: (1 if passenger is female; 0 if not) </li>\n",
    "  <li> <b>sex_male</b>: (1 if passenger is male; 0 if not) </li>\n",
    "  <li> <b>age</b>: Age </li>\n",
    "  <li> <b>sibsp</b>: Number of brothers, sisters, or spouses onboard </li>\n",
    "  <li> <b>parch</b>: Number of parents or children onboard </li>\n",
    "  <li> <b>fare</b>: Passenger fare </li>\n",
    "  <li> <b>embarked_C</b>: (1 if Port of embarkation = Cherbourg (C); 0 otherwise) </li> \n",
    "  <li> <b>embarked_Q</b>: (1 if Port of embarkation = Queenstown (Q); 0 otherwise) </li> \n",
    "  <li> <b>embarked_S</b>: (1 if Port of embarkation = Southampton (S); 0 otherwise)</li> \n",
    " </ol>"
   ]
  },
  {
   "cell_type": "markdown",
   "metadata": {
    "colab_type": "text",
    "id": "QJcs6PUTavlm"
   },
   "source": [
    "## Train / validation / test split"
   ]
  },
  {
   "cell_type": "markdown",
   "metadata": {
    "colab_type": "text",
    "id": "Bjbgvffmavlo"
   },
   "source": [
    "At this point, we need to divide the dataset into three subsets:\n",
    "\n",
    "<ol>\n",
    "<li> <b> Train</b> (usually 60% of the dataset): used to train the classification model. </li>   \n",
    "<li> <b> Validation</b> (generally 20% of the dataset): used to evaluate hyper-parameters on held-out data. </li>   \n",
    "<li> <b> Test</b> (usually 20% of the dataset): used to evaluate the generalization performance of the chosen model on held-out data. </li>\n",
    "</ol>\n",
    "\n",
    "We use the <a href=\"https://docs.scipy.org/doc/numpy-1.15.1/reference/generated/numpy.split.html\">numpy.split function</a> to separate our dataset into subsets."
   ]
  },
  {
   "cell_type": "code",
   "execution_count": null,
   "metadata": {
    "colab": {},
    "colab_type": "code",
    "id": "GBmL8VBOavlo"
   },
   "outputs": [],
   "source": [
    "train, validate, test = np.split(\n",
    "    titanic_preprocess_df.sample(frac=1, random_state=seed), \n",
    "    [int(.6*len(titanic_preprocess_df)), int(.8*len(titanic_preprocess_df))])\n",
    "\n",
    "# Remove the label column from X and create a label vectors.\n",
    "X_train = train.drop(['survived'], axis=1).values\n",
    "y_train = train['survived'].values\n",
    "\n",
    "X_val = validate.drop(['survived'], axis=1).values\n",
    "y_val = validate['survived'].values\n",
    "\n",
    "X_test = test.drop(['survived'], axis=1).values\n",
    "y_test = test['survived'].values"
   ]
  },
  {
   "cell_type": "markdown",
   "metadata": {
    "colab_type": "text",
    "id": "wv74TbIWavlr"
   },
   "source": [
    "## Datasets in PyTorch"
   ]
  },
  {
   "cell_type": "markdown",
   "metadata": {
    "colab_type": "text",
    "id": "9_LJtG-Xavlt"
   },
   "source": [
    "We will use the subclass <b><a href=\"http://pytorch.org/docs/master/data.html#\"> `torch.utils.data.TensorDataset`</a> </b> to manipulate together the features and targets of a dataset."
   ]
  },
  {
   "cell_type": "code",
   "execution_count": null,
   "metadata": {
    "colab": {},
    "colab_type": "code",
    "id": "1JtT4tV7avlt"
   },
   "outputs": [],
   "source": [
    "from torch.utils.data import TensorDataset\n",
    "\n",
    "train_dataset = TensorDataset(torch.from_numpy(X_train).float(), torch.from_numpy(y_train).long())\n",
    "\n",
    "val_dataset = TensorDataset(torch.from_numpy(X_val).float(), torch.from_numpy(y_val).long())\n",
    "\n",
    "test_dataset = TensorDataset(torch.from_numpy(X_test).float(), torch.from_numpy(y_test).long())"
   ]
  },
  {
   "cell_type": "markdown",
   "metadata": {
    "colab_type": "text",
    "id": "obEPHnlTavkc"
   },
   "source": [
    "# How to define the learning algorithm?"
   ]
  },
  {
   "cell_type": "markdown",
   "metadata": {
    "colab_type": "text",
    "id": "qhN5GL6Gavks"
   },
   "source": [
    "A multilayer perceptron (MLP) is a simple computational graph composed of \"hidden layers,\" which are defined by two modules: a *linear transformation* followed by a *non-linearity*. The result of a hidden layer is a vector called *a distributed representation* where each component is associated with a hidden unit.\n",
    "\n",
    "To train this model, we need to define:\n",
    "<ul>\n",
    "<li>the network architecture by choosing the non-linear function and the number of hidden units per layer, </li>\n",
    "<li>the cost function and optimizer. </li>\n",
    "</ul>\n",
    "\n",
    "To solve our task, we will use a MLP with the following properties:\n",
    " <ul>\n",
    " <li> the input dimension of the model is 12,</li>\n",
    " <li> the output dimension of the model is 2,</li>\n",
    " <li> the first dimension of the output is the probability of death and the second dimension is the probability of survival,</li>\n",
    "  <li> the number of hidden layers is 3, </li>\n",
    " <li> the dimensions of the hidden layers are 20, 40, 20 respectively, </li>\n",
    " <li> the activation function is a ReLu for all hidden layers. </li>\n",
    " </ul>"
   ]
  },
  {
   "cell_type": "markdown",
   "metadata": {
    "colab_type": "text",
    "id": "701t0e-ravkr"
   },
   "source": [
    "## How to define a model in PyTorch?"
   ]
  },
  {
   "cell_type": "markdown",
   "metadata": {
    "colab_type": "text",
    "id": "m4F5cyijavkv"
   },
   "source": [
    "The <a href=\"https://pytorch.org/docs/stable/nn.html\">PyTorch NN package</a> contains many useful classes for creating computation graphs.\n",
    "<ul>\n",
    "<li> The class <a href=\"http://pytorch.org/docs/master/nn.html#module\">torch.nn.Module</a>: \n",
    "any new module must inherit from this class or its descendants (subclasses).\n",
    "</li>   \n",
    "<li> The `forward` method:  any class defining a module must implement the `forward(...)` method, which defines the transformation of inputs to outputs.</li>  \n",
    "<li> The class <a href=\"http://pytorch.org/docs/master/nn.html#torch.nn.Linear\">`torch.nn.Linear(in_features, out_features)`</a>: this class implements a linear transformation. By default, it takes two parameters: \n",
    "    <ul>\n",
    "    <li>`in_features`: the size of the data at the input of the module. </li>\n",
    "    <li>`out_features`: the size of the data at the output of the module. </li>\n",
    "    </ul>\n",
    "</li>\n",
    "<li> The module <a href=\"http://pytorch.org/docs/master/nn.html#torch-nn-functional\">`torch.nn.functional`</a>: \n",
    "it defines a set of functions that can be applied directly to any tensor. As examples, we have:\n",
    "    <ul>\n",
    "    <li> non-linear functions: sigmoid(...), tanh(...), relu(...), etc...</li> \n",
    "    <li> cost functions: mse_loss(...), nll(...., cross_entropy(...), etc ... </li> \n",
    "    <li> regularization functions: droupout(...), etc ... </li> \n",
    "    <li> ...</li> \n",
    "    </ul>\n",
    "</li>\n",
    "</ul>"
   ]
  },
  {
   "cell_type": "markdown",
   "metadata": {
    "colab_type": "text",
    "id": "Tscha6S-KIBB"
   },
   "source": [
    "You need to complete the following methods:\n",
    "<ul>\n",
    "<li>The `__init__` method that defines the layers. </li>\n",
    "<li>The `forward(input)` method that returns the `output`. </li>\n",
    "</ul>"
   ]
  },
  {
   "cell_type": "code",
   "execution_count": null,
   "metadata": {
    "colab": {},
    "colab_type": "code",
    "id": "8NyQGwC-avkw"
   },
   "outputs": [],
   "source": [
    "import torch\n",
    "import torch.nn as nn\n",
    "import torch.nn.functional as F\n",
    "seed = 1234\n",
    "torch.manual_seed(seed)\n",
    "torch.cuda.manual_seed(seed)"
   ]
  },
  {
   "cell_type": "code",
   "execution_count": null,
   "metadata": {
    "colab": {},
    "colab_type": "code",
    "id": "xR5eBfIbavk0"
   },
   "outputs": [],
   "source": [
    "class NeuralNet(nn.Module):\n",
    "    def __init__(self):\n",
    "        super(NeuralNet, self).__init__()\n",
    "        self.fc1 = nn.Linear(12, 20)\n",
    "        self.fc2 = nn.Linear(20, 40)\n",
    "        self.fc3 = nn.Linear(40, 20)\n",
    "        self.fc4 = nn.Linear(20, 2)\n",
    "\n",
    "    def forward(self, x):\n",
    "        x = F.relu(self.fc1(x))\n",
    "        x = F.relu(self.fc2(x))\n",
    "        x = F.relu(self.fc3(x))\n",
    "        out = self.fc4(x)\n",
    "        return out"
   ]
  },
  {
   "cell_type": "markdown",
   "metadata": {
    "colab_type": "text",
    "id": "OvLnHRZ5avk2"
   },
   "source": [
    "## Making predictions with a neural network"
   ]
  },
  {
   "cell_type": "markdown",
   "metadata": {
    "colab_type": "text",
    "id": "uEXgJMDDavk3"
   },
   "source": [
    "Now, we are ready to test our neural network on randomly selected data.\n",
    "\n",
    "In PyTorch, a model has two different modes:\n",
    "    <ul>\n",
    "    <li> <b>train</b>: used during training, </li>\n",
    "    <li> <b>eval</b>: used during inference for model evaluation. </li>\n",
    "    </ul>\n",
    "The distinction is important since some modules behave differently according to this mode.\n",
    "We will use the <b>eval</b> mode in this section."
   ]
  },
  {
   "cell_type": "code",
   "execution_count": null,
   "metadata": {
    "colab": {
     "base_uri": "https://localhost:8080/",
     "height": 104
    },
    "colab_type": "code",
    "id": "gzcABMezavk6",
    "outputId": "d65d2777-ee2a-4f9d-9259-edb76428ad6f"
   },
   "outputs": [],
   "source": [
    "# Model definition\n",
    "neural_net = NeuralNet()\n",
    "neural_net = neural_net.to(device)\n",
    "\n",
    "# Eval mode activation\n",
    "neural_net = neural_net.eval()\n",
    "\n",
    "# Select the first 5 data points\n",
    "data, target = val_dataset[0:5]\n",
    "data = data.to(device)\n",
    "target = target.to(device)\n",
    "\n",
    "# Forward propagation of the data through the model\n",
    "output = neural_net(data)   # equivalent to neural_net.forward(data)\n",
    "\n",
    "# Convert the logits into probabilities with softmax function\n",
    "output_proba = F.softmax(output, dim=1)\n",
    "\n",
    "# Printing the probability\n",
    "print(output_proba)"
   ]
  },
  {
   "cell_type": "markdown",
   "metadata": {
    "colab_type": "text",
    "id": "fVep0BElavlS"
   },
   "source": [
    "The rows define the output of the network, in terms of probabilities over two classes: <b>deceased</b> (first column) or <b>survived</b> (second column), for each of the five input data points. Let us take the label with maximum probability as the predicted label and compare it to the correct label."
   ]
  },
  {
   "cell_type": "code",
   "execution_count": null,
   "metadata": {
    "colab": {
     "base_uri": "https://localhost:8080/",
     "height": 87
    },
    "colab_type": "code",
    "id": "_jV4No36qjdU",
    "outputId": "995f5958-ab4d-4c8a-e486-f303405e1e88"
   },
   "outputs": [],
   "source": [
    "# Printing predictions (class with the highest probability)\n",
    "_, prediction = torch.max(output_proba, dim=1)\n",
    "\n",
    "print('Model prediction')\n",
    "print(prediction)\n",
    "\n",
    "# Printing the real labels\n",
    "print(\"Actual data\")\n",
    "print(target)"
   ]
  },
  {
   "cell_type": "markdown",
   "metadata": {
    "colab_type": "text",
    "id": "SEIIjqOuqjdc"
   },
   "source": [
    "**Questions**\n",
    "\n",
    "1.   What would be a good way to measure the model performances?\n",
    "2.   How does our model perform?\n",
    "3.   Considering that the model is not trained on the dataset, do you see any problem with your selected measure?\n",
    "\n"
   ]
  },
  {
   "cell_type": "markdown",
   "metadata": {
    "colab_type": "text",
    "id": "iTTlBikYwb-w"
   },
   "source": [
    "\n",
    "**Possible answers**:\n",
    "\n",
    "\n",
    "1.   A simple measure of performance is the accuracy, the number of correct predictions over the total number of examples.\n",
    "2.   This model has an accuracy of 4/5 = 80%.\n",
    "3.   With accuracy, we already have a score of 80% with random weight, which happens when labels are unbalanced, and the model predicts the dominant class by chance. In this section, we are only using five examples to evaluate the model, which is not enough. However, if we observe this behavior on the whole validation set, then we may consider another measure of performance (e.g., precision/recall or F1-score).\n",
    "\n"
   ]
  },
  {
   "cell_type": "markdown",
   "metadata": {
    "colab_type": "text",
    "id": "0uySA2TCavmD"
   },
   "source": [
    "## Define the cost function and optimizer"
   ]
  },
  {
   "cell_type": "markdown",
   "metadata": {
    "colab_type": "text",
    "id": "EkoobCLMavmE"
   },
   "source": [
    "### Cost function"
   ]
  },
  {
   "cell_type": "markdown",
   "metadata": {
    "colab_type": "text",
    "id": "qkX7uSXQavmF"
   },
   "source": [
    "We define the cost function according to the task we want to achieve.\n",
    "\n",
    "PyTorch offers <a href=\"https://pytorch.org/docs/stable/nn.html#loss-functions\">many ready-to-use cost functions</a>.\n",
    "\n",
    "For classification problems, the usual cost function is <b>cross-entropy</b>, and this is the one we will use in this tutorial. In PyTorch, it is defined by the function <a href=\"https://pytorch.org/docs/master/nn.functional.html#cross-entropy\">`torch.nn.functional.cross_entropy`</a>.  Cross entropy allows comparing a $p$ distribution with a reference distribution $t$. It attains its minimum when $t=p$. Its formula for calculating it between the prediction and the target is: $-\\sum_j t_{ij} \\log(p_{ij})$ where $p$ is the prediction, $t$ the target, $i$ the examples and $j$ the classes of the target."
   ]
  },
  {
   "cell_type": "code",
   "execution_count": null,
   "metadata": {
    "colab": {},
    "colab_type": "code",
    "id": "FHnfYeS5avmF"
   },
   "outputs": [],
   "source": [
    "import torch.nn.functional as F\n",
    "\n",
    "\n",
    "def cost_function(prediction, target):\n",
    "    loss = F.cross_entropy(prediction, target)\n",
    "    return loss"
   ]
  },
  {
   "cell_type": "markdown",
   "metadata": {
    "colab_type": "text",
    "id": "Vsx_cv9Wqjdj"
   },
   "source": [
    "### Backpropagation"
   ]
  },
  {
   "cell_type": "markdown",
   "metadata": {
    "colab_type": "text",
    "id": "0hcZaIKtavmH"
   },
   "source": [
    "In Pytorch, thanks to the automatic differentiation mechanism <a href=\"http://pytorch.org/docs/master/notes/autograd.html\">Autograd</a>, it is possible to automatically calculate the gradient of the cost function and backpropagate it through the computational graph.\n",
    "\n",
    "To do this, we only have to call the method `backward()` on the variable returned by the cost function, e.g., with\n",
    "\n",
    "`loss = cost_function(....)` <br>\n",
    "`loss.backward()`"
   ]
  },
  {
   "cell_type": "markdown",
   "metadata": {
    "colab_type": "text",
    "id": "8YNo_ymYavmH"
   },
   "source": [
    "### Optimization"
   ]
  },
  {
   "cell_type": "markdown",
   "metadata": {
    "colab_type": "text",
    "id": "Y4AlX9TwavmH"
   },
   "source": [
    "PyTorch provides a <a href=\"http://pytorch.org/docs/master/optim.html#algorithms\">set of optimization methods (`torch.optim`)</a> commonly used by the deep learning community. These methods include the following: \n",
    "<ul>\n",
    "<li><b>SGD</b> (Stochastic Gradient Descent) <a href=\"http://pytorch.org/docs/master/optim.html#torch.optim.SGD\">`torch.optim.SGD(net.parameters(), lr=learning_rate)`</a></li>\n",
    "<li><b>Adam</b> (Adaptive Moment Estimation): a variant of the gradient descent method in which the learning rate is adjusted for each parameter. This adjustment is based on the estimation of the first and second moments of the gradients. This optimizer has demonstrated excellent performance compared to SGD on many benchmarks. </li>\n",
    "</ul>"
   ]
  },
  {
   "cell_type": "markdown",
   "metadata": {
    "colab_type": "text",
    "id": "Uam-a0_0qjdl"
   },
   "source": [
    "To be able to use an optimizer in PyTorch, we must instantiate it by passing the following elements:\n",
    "<ul>\n",
    "<li><b>The parameters of the model</b>: these are obtained using the method <b>parameters()</b> on the instantiated model. </li>\n",
    "<li><b>The learning rate (lr)</b>: this is the learning rate to be used to update parameters during the optimization process. </li>\n",
    "<li>There may be other parameters specific to the chosen optimizer.</li>\n",
    "</ul>\n"
   ]
  },
  {
   "cell_type": "markdown",
   "metadata": {
    "colab_type": "text",
    "id": "jt6_Qr6ravmI"
   },
   "source": [
    "PyTorch offers a simplified interface to interact with any optimizer:\n",
    "<ul>\n",
    "<li><b>zero_grad()</b>: Allows to reinitialize the gradients to zero at the beginning of an optimization step.</li>\n",
    "<li><b>step()</b>: Allows to perform an optimization step after a gradient backpropagation step.</li>\n",
    "</ul>"
   ]
  },
  {
   "cell_type": "markdown",
   "metadata": {
    "colab_type": "text",
    "id": "fZ-lKExqavmI"
   },
   "source": [
    "We will use Adam with a lr of 0.001."
   ]
  },
  {
   "cell_type": "code",
   "execution_count": null,
   "metadata": {
    "colab": {},
    "colab_type": "code",
    "id": "WDMOziJTavmI"
   },
   "outputs": [],
   "source": [
    "import torch.optim as optim\n",
    "\n",
    "optimizer = optim.Adam(neural_net.parameters(), lr=0.001) "
   ]
  },
  {
   "cell_type": "markdown",
   "metadata": {
    "colab_type": "text",
    "id": "OnFOAfdGqjdr"
   },
   "source": [
    "# How to train a model?\n",
    "First, we need some definitions:\n",
    "<ol>\n",
    "<li>\n",
    "<b>Epoch</b>: a complete pass over the entire training dataset.\n",
    "</li>\n",
    "<li>\n",
    "<b>Iteration</b>: an update of the model parameters. Many iterations can occur before the end of an epoch.\n",
    "</li>\n",
    "<li>\n",
    "<b>Mini-batch</b>: A subset of training data used to estimate the average of gradients. In other words, at each iteration, a mini-batch is used. \n",
    "</li>\n",
    "</ol>"
   ]
  },
  {
   "cell_type": "markdown",
   "metadata": {
    "colab_type": "text",
    "id": "LLXjNiDTavmK"
   },
   "source": [
    "## Creating the mini-batches\n",
    "PyTorch offers a utility called <b><a href=\"http://pytorch.org/docs/master/data.html\"> torch.utils.data.DataLoader </a></b> to load any dataset and automatically split it into mini-batches. During training, the data presented to the network should appear in a different order from one epoch to another. We will prepare the `DataLoader` for our three datasets (training, validation, and test)."
   ]
  },
  {
   "cell_type": "code",
   "execution_count": null,
   "metadata": {
    "colab": {},
    "colab_type": "code",
    "id": "RGoQZSdqavmM"
   },
   "outputs": [],
   "source": [
    "train_batch_size = 32  # number of data in a training batch.\n",
    "eval_batch_size = 32   # number of data in an batch.\n",
    "\n",
    "\n",
    "train_loader = torch.utils.data.DataLoader(train_dataset, batch_size=train_batch_size, shuffle=True)\n",
    "\n",
    "val_loader   = torch.utils.data.DataLoader(val_dataset, batch_size=eval_batch_size, shuffle=False)\n",
    "test_loader  = torch.utils.data.DataLoader(test_dataset, batch_size=eval_batch_size, shuffle=False)"
   ]
  },
  {
   "cell_type": "markdown",
   "metadata": {
    "colab_type": "text",
    "id": "Ia3ai-GvavmP"
   },
   "source": [
    "## Simple training loop"
   ]
  },
  {
   "cell_type": "markdown",
   "metadata": {
    "colab_type": "text",
    "id": "v9wNZrTnavmQ"
   },
   "source": [
    "Here we define our training procedure for an epoch."
   ]
  },
  {
   "cell_type": "code",
   "execution_count": null,
   "metadata": {
    "colab": {},
    "colab_type": "code",
    "id": "ZyK9xCsZavmR"
   },
   "outputs": [],
   "source": [
    "def train(epoch, model, train_loader, optimizer, device):\n",
    "    \n",
    "    # activate the training mode\n",
    "    model.train()\n",
    "    \n",
    "    torch.set_grad_enabled(True)\n",
    "    \n",
    "    total_loss = 0\n",
    "    correct = 0\n",
    "    \n",
    "    # iteration over the mini-batches\n",
    "    for batch_idx, (data, target) in enumerate(train_loader):\n",
    "        \n",
    "        # transfer the data on the chosen device\n",
    "        data, target = data.to(device), target.to(device)\n",
    "        \n",
    "        # reinitialize the gradients to zero\n",
    "        optimizer.zero_grad()\n",
    "        \n",
    "        # forward propagation on the data\n",
    "        prediction = model(data)\n",
    "        \n",
    "        # compute the cost function w.r.t. the targets\n",
    "        loss = cost_function(prediction, target)\n",
    "        \n",
    "        # execute the backpropagation\n",
    "        loss.backward()\n",
    "        \n",
    "        # execute an optimization step\n",
    "        optimizer.step()\n",
    "        \n",
    "        # accumulate the loss\n",
    "        total_loss += loss.item()*len(data)\n",
    "        \n",
    "        # compute the number of correct predictions\n",
    "        _, pred_classes = torch.max(prediction, dim=1)        \n",
    "        correct += pred_classes.eq(target.view_as(pred_classes)).sum().item()\n",
    "         \n",
    "        \n",
    "    # compute the average cost per epoch\n",
    "    mean_loss = total_loss/len(train_loader.dataset)\n",
    "    \n",
    "    # compute the accuracy\n",
    "    acc = correct / len(train_loader.dataset)\n",
    "        \n",
    "    print('Train Epoch: {}   Avg_Loss: {:.5f}   Acc: {}/{} ({:.3f}%)'.format(\n",
    "        epoch, mean_loss, correct, len(train_loader.dataset),\n",
    "        100. * acc))   \n",
    "    \n",
    "    # return the average loss and the accuracy\n",
    "    return mean_loss, acc"
   ]
  },
  {
   "cell_type": "markdown",
   "metadata": {
    "colab_type": "text",
    "id": "PxG666rmavmU"
   },
   "source": [
    "## Evaluation procedure"
   ]
  },
  {
   "cell_type": "markdown",
   "metadata": {
    "colab_type": "text",
    "id": "vGexbWaHavmU"
   },
   "source": [
    "Here we define our model evaluation procedure.\n",
    "<br/>\n",
    "In addition to switching the model to **eval** mode, it is essential to disable the gradient calculation. \n",
    "<br/>\n",
    "To do this, PyTorch offers a set of context managers to <a href=\"https://pytorch.org/docs/0.4.0/torch.html#locally-disabling-gradient-computation\">locally disable/enable gradient calculation </a>:\n",
    "<ol>\n",
    "<li>\n",
    "`torch.no_grad()`: disable gradient calculation.\n",
    "</li>\n",
    "<li>\n",
    "`torch.enable_grad()`: enable gradient calculation.\n",
    "</li>\n",
    "<li>\n",
    "`torch.set_grad_enabled(bool)`: enable/disable gradient calculation.\n",
    "</li>\n",
    "</ol>\n",
    "\n"
   ]
  },
  {
   "cell_type": "code",
   "execution_count": null,
   "metadata": {
    "colab": {},
    "colab_type": "code",
    "id": "8gQj9W5LavmU"
   },
   "outputs": [],
   "source": [
    "def evaluate(model, eval_loader, device):\n",
    "    \n",
    "    # activate the evaluation mode\n",
    "    model.eval()\n",
    "    \n",
    "    total_loss = 0\n",
    "    correct = 0\n",
    "    \n",
    "    with torch.no_grad():\n",
    "    \n",
    "        # iterate over the batches\n",
    "        for batch_idx, (data, target) in enumerate(eval_loader):\n",
    "\n",
    "            # transfer the data on the chosen device\n",
    "            data, target = data.to(device), target.to(device)\n",
    "\n",
    "            # forward propagation on the data\n",
    "            prediction = model(data)\n",
    "\n",
    "            # compute the cost function w.r.t. the targets\n",
    "            loss = cost_function(prediction, target)           \n",
    "\n",
    "\n",
    "            # accumulate the loss\n",
    "            total_loss += loss.item()*len(data)\n",
    "\n",
    "            # compute the number of correct predictions en sortie)\n",
    "            _, pred_classes = torch.max(prediction, dim=1) \n",
    "            correct += pred_classes.eq(target.view_as(pred_classes)).sum().item()         \n",
    "          \n",
    "    \n",
    "    # compute the average cost per epoch\n",
    "    mean_loss = total_loss/len(eval_loader.dataset)\n",
    "    \n",
    "    # compute the accuracy\n",
    "    acc = correct / len(eval_loader.dataset)\n",
    "        \n",
    "    print('Eval:  Avg_Loss: {:.5f}   Acc: {}/{} ({:.3f}%)'.format(\n",
    "        mean_loss, correct, len(eval_loader.dataset),\n",
    "        100. * acc)) \n",
    "    \n",
    "    # return the average loss and the accuracy\n",
    "    return mean_loss, acc"
   ]
  },
  {
   "cell_type": "markdown",
   "metadata": {
    "colab_type": "text",
    "id": "fMUyZNxdavmW"
   },
   "source": [
    "## Checkpointing"
   ]
  },
  {
   "cell_type": "markdown",
   "metadata": {
    "colab_type": "text",
    "id": "lQLklQXAavmW"
   },
   "source": [
    "For training phases that require much time, it is recommended to save periodically the model parameters. This step is commonly referred to as <b>checkpointing</b>.\n",
    "\n",
    "PyTorch offers <a href=\"http://pytorch.org/docs/master/notes/serialization.html\">a simple mechanism</a> to perform this operation. \n",
    "\n",
    "\n",
    "\n",
    "\n"
   ]
  },
  {
   "cell_type": "markdown",
   "metadata": {
    "colab_type": "text",
    "id": "Ld-Y2gF-avmX"
   },
   "source": [
    "We implement two methods here:\n",
    "<ul>\n",
    "<li> the first one for <b> saving </b> a model,</li>\n",
    "<li> the second for <b> loading </b> a model checkpoint. </li>\n",
    "</ul>"
   ]
  },
  {
   "cell_type": "code",
   "execution_count": null,
   "metadata": {
    "colab": {},
    "colab_type": "code",
    "id": "dMmNpma2avmX"
   },
   "outputs": [],
   "source": [
    "def save_model(epoch, model, path='./'):\n",
    "    \n",
    "    # creating the file name indexed by the epoch value\n",
    "    filename = path + 'neural_network_{}.pt'.format(epoch)\n",
    "    \n",
    "    # saving the model parameters\n",
    "    torch.save(model.state_dict(), filename)\n",
    "    \n",
    "    \n",
    "    return model\n",
    "    "
   ]
  },
  {
   "cell_type": "code",
   "execution_count": null,
   "metadata": {
    "colab": {},
    "colab_type": "code",
    "id": "2ZptgqQRavmZ"
   },
   "outputs": [],
   "source": [
    "def load_model(epoch, model, path='./'):\n",
    "    \n",
    "    # creating the file name indexed by the epoch value\n",
    "    filename = path + 'neural_network_{}.pt'.format(epoch)\n",
    "    \n",
    "    # loading the parameters of the saved model\n",
    "    model.load_state_dict(torch.load(filename))\n",
    "    \n",
    "    \n",
    "    return model"
   ]
  },
  {
   "cell_type": "markdown",
   "metadata": {
    "colab_type": "text",
    "id": "ve8sOocWavma"
   },
   "source": [
    "It is also possible to save the status of the optimizer in PyTorch, which is very important when we want to resume training the model from a given backup. For more information, please consult <a href='https://discuss.pytorch.org/t/saving-and-loading-a-model-in-pytorch/2610/3'>the following URL</a>. "
   ]
  },
  {
   "cell_type": "markdown",
   "metadata": {
    "colab_type": "text",
    "id": "8lcAP8-1avma"
   },
   "source": [
    "## Putting everything together"
   ]
  },
  {
   "cell_type": "code",
   "execution_count": null,
   "metadata": {
    "colab": {
     "base_uri": "https://localhost:8080/",
     "height": 1000
    },
    "colab_type": "code",
    "id": "keMpyePsavmb",
    "outputId": "638ef04a-0f0e-4e8a-8b50-23884324a79b"
   },
   "outputs": [],
   "source": [
    "# maximum number of epoch\n",
    "numEpochs = 200\n",
    "\n",
    "# Saving frequency\n",
    "checkpoint_freq = 10\n",
    "\n",
    "# Directory for data backup\n",
    "path = './'\n",
    "\n",
    "# Accumulators of average costs obtained per epoch\n",
    "train_losses = []\n",
    "val_losses = []\n",
    "\n",
    "# Performance accumulators per epoch\n",
    "train_accuracies = []\n",
    "val_accuracies = []\n",
    "\n",
    "# Model definition\n",
    "neural_net = NeuralNet()\n",
    "\n",
    "# Load the model on the chosen device\n",
    "neural_net = neural_net.to(device)\n",
    "\n",
    "# Optimizer definition\n",
    "optimizer = optim.Adam(neural_net.parameters(), lr=0.001) \n",
    "# optimizer = optim.SGD(neural_net.parameters(), lr=0.001) \n",
    "\n",
    "\n",
    "# Learning loop\n",
    "for epoch in range(1, numEpochs + 1):\n",
    "    \n",
    "    # train the model with the train dataset\n",
    "    train_loss, train_acc = train(epoch, neural_net, train_loader, optimizer, device)   \n",
    "    \n",
    "    # evaluate the model with the validation dataset\n",
    "    val_loss, val_acc = evaluate(neural_net, val_loader, device)       \n",
    "    \n",
    "    # Save the costs obtained\n",
    "    train_losses.append(train_loss)    \n",
    "    val_losses.append(val_loss)\n",
    "    \n",
    "    # Save the performances\n",
    "    train_accuracies.append(train_acc)    \n",
    "    val_accuracies.append(val_acc)\n",
    "    \n",
    "    # Checkpoint\n",
    "    if epoch % checkpoint_freq ==0:\n",
    "        save_model(epoch, neural_net, path)\n",
    "\n",
    "# Save the model at the end of the training\n",
    "save_model(numEpochs, neural_net, path)\n",
    "    \n",
    "print(\"\\n\\n\\nOptimization ended.\\n\")    \n"
   ]
  },
  {
   "cell_type": "markdown",
   "metadata": {
    "colab_type": "text",
    "id": "86OZRLrjavmd"
   },
   "source": [
    "## Interpreting the output of the neural network"
   ]
  },
  {
   "cell_type": "code",
   "execution_count": null,
   "metadata": {
    "colab": {
     "base_uri": "https://localhost:8080/",
     "height": 191
    },
    "colab_type": "code",
    "id": "mklvQruYavme",
    "outputId": "193eeca0-db5e-477b-818d-7b5e6d883848"
   },
   "outputs": [],
   "source": [
    "# Activate the evaluation mode\n",
    "neural_net = neural_net.eval()\n",
    "\n",
    "# Select the first 10 data points of the validation set\n",
    "data, target = val_dataset[0:10]\n",
    "data = data.to(device)\n",
    "\n",
    "# Executing the neural network\n",
    "output = neural_net(data)   # equivalent to neural_net.forward(data)\n",
    "\n",
    "# Transform the output into a probability distribution with a softmax function\n",
    "output_proba = F.softmax(output, dim=1)\n",
    "\n",
    "# Print the probability\n",
    "print(output_proba)"
   ]
  },
  {
   "cell_type": "code",
   "execution_count": null,
   "metadata": {
    "colab": {
     "base_uri": "https://localhost:8080/",
     "height": 87
    },
    "colab_type": "code",
    "id": "RvIEqKt0qjeT",
    "outputId": "f1c4e779-e9e1-4873-be1e-1366fb515836"
   },
   "outputs": [],
   "source": [
    "# For each example, retrieve the class with the highest probability.\n",
    "_, prediction = torch.max(output_proba, dim=1)\n",
    "\n",
    "print(\"Model predictions\")\n",
    "print(prediction)\n",
    "\n",
    "print(\"Targets\")\n",
    "print(target)"
   ]
  },
  {
   "cell_type": "markdown",
   "metadata": {
    "colab_type": "text",
    "id": "V11J3Jihavmy"
   },
   "source": [
    "## Visualizing of the learning curve"
   ]
  },
  {
   "cell_type": "markdown",
   "metadata": {
    "colab_type": "text",
    "id": "j9_9C_tXavmz"
   },
   "source": [
    "The visualization of the learning curve allows to detect possible problems that may have occurred during learning, for example, overfitting."
   ]
  },
  {
   "cell_type": "code",
   "execution_count": null,
   "metadata": {
    "colab": {
     "base_uri": "https://localhost:8080/",
     "height": 283
    },
    "colab_type": "code",
    "id": "iNcbpl0tavm0",
    "outputId": "fa201aa2-5e25-4701-c0a9-33415773d68b"
   },
   "outputs": [],
   "source": [
    "import matplotlib.pyplot as plt\n",
    "%matplotlib inline\n",
    "\n",
    "x = list(range(len(train_losses)))\n",
    "\n",
    "ax = plt.subplot(111)\n",
    "plt.plot(x, train_losses, 'r', label=\"Train\")\n",
    "plt.plot(x, val_losses, 'g', label=\"Validation\")\n",
    "plt.xlabel('epoch')\n",
    "plt.ylabel('Cross-entropy loss')\n",
    "plt.grid()\n",
    "leg = plt.legend(loc='best', ncol=2, mode=\"expand\", shadow=False, fancybox=False)\n",
    "leg.get_frame().set_alpha(0.99)"
   ]
  },
  {
   "cell_type": "code",
   "execution_count": null,
   "metadata": {
    "colab": {
     "base_uri": "https://localhost:8080/",
     "height": 283
    },
    "colab_type": "code",
    "id": "g-VGQ2pMavm4",
    "outputId": "267e91d4-48e3-413d-e2e2-0feac7335035"
   },
   "outputs": [],
   "source": [
    "x = list(range(len(train_accuracies)))\n",
    "\n",
    "ax = plt.subplot(111)\n",
    "plt.plot(x, train_accuracies, 'r', label=\"Train\")\n",
    "plt.plot(x, val_accuracies, 'g', label=\"Validation\")\n",
    "plt.xlabel('epoch')\n",
    "plt.ylabel('Accuracy')\n",
    "plt.grid()\n",
    "leg = plt.legend(loc='best', ncol=2, mode=\"expand\", shadow=False, fancybox=False)\n",
    "leg.get_frame().set_alpha(0.99)"
   ]
  },
  {
   "cell_type": "markdown",
   "metadata": {
    "colab_type": "text",
    "id": "8oktkpkuqjet"
   },
   "source": [
    "**Questions**:\n",
    "\n",
    "*   What do you observe in the previous graphs?\n",
    "*   At which epoch is it interesting to retrieve the model parameters for inference?\n",
    "\n"
   ]
  },
  {
   "cell_type": "markdown",
   "metadata": {
    "colab_type": "text",
    "id": "qwhRt39yzug-"
   },
   "source": [
    "**Possible answers:**\n",
    "\n",
    "*   The model is learning since the training loss is decreasing. However, we can observe by comparing the two loss curves (training and validation) that the model begins to overfit at epoch 25 w.r.t. cross-entropy. Nevertheless, the accuracy continues to increase until epoch 100.\n",
    "*   Around epoch 125 where the accuracy on the validation set is maximal. The performance metric is more important than the loss because it is the measure used to determine the best model (i.e., model selection). The training loss is only a surrogate required to generate the feedback for a particular model. Another model could use another loss function.\n"
   ]
  },
  {
   "cell_type": "markdown",
   "metadata": {
    "colab_type": "text",
    "id": "XK_eUsq3avm8"
   },
   "source": [
    "# How to evaluate a model on the test set?"
   ]
  },
  {
   "cell_type": "markdown",
   "metadata": {
    "colab_type": "text",
    "id": "4UREO5elavm8"
   },
   "source": [
    "We can finally evaluate our model on our test dataset."
   ]
  },
  {
   "cell_type": "code",
   "execution_count": null,
   "metadata": {
    "colab": {
     "base_uri": "https://localhost:8080/",
     "height": 35
    },
    "colab_type": "code",
    "id": "pPWvDM-qavm8",
    "outputId": "b39e294a-47fb-401a-ffa4-5d2a407f0980"
   },
   "outputs": [],
   "source": [
    "test_loss, test_acc = evaluate(neural_net, test_loader, device)"
   ]
  },
  {
   "cell_type": "markdown",
   "metadata": {
    "colab_type": "text",
    "id": "EvP_-KUwqjez"
   },
   "source": [
    "**Questions**:\n",
    "\n",
    "a) Compare validation and test metrics. <br/>"
   ]
  },
  {
   "cell_type": "markdown",
   "metadata": {
    "colab_type": "text",
    "id": "Ov4CKUFh5tun"
   },
   "source": [
    "\n",
    "**Possible answer**: we observe a discrepancy between the two metrics (validation: 81.8%, test: 78.5%). We explain this difference by the small number of examples used in both sets (~ 209 examples). It means that our current estimates can have a variance of few percents. To assess it more precisely, we could use k-fold cross-validation.\n"
   ]
  }
 ],
 "metadata": {
  "accelerator": "GPU",
  "colab": {
   "collapsed_sections": [],
   "name": "tutorial_mlp_tags.ipynb",
   "provenance": [],
   "toc_visible": true,
   "version": "0.3.2"
  },
  "kernelspec": {
   "display_name": "Python 3",
   "language": "python",
   "name": "python3"
  },
  "language_info": {
   "codemirror_mode": {
    "name": "ipython",
    "version": 3
   },
   "file_extension": ".py",
   "mimetype": "text/x-python",
   "name": "python",
   "nbconvert_exporter": "python",
   "pygments_lexer": "ipython3",
   "version": "3.7.3"
  }
 },
 "nbformat": 4,
 "nbformat_minor": 2
}
